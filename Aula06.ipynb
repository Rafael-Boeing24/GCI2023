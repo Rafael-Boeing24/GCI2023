{
 "cells": [
  {
   "cell_type": "code",
   "execution_count": null,
   "metadata": {},
   "outputs": [],
   "source": [
    "import pandas as pd\n",
    "\n",
    "pd.read_csv('brasil_estados.csv')"
   ]
  },
  {
   "cell_type": "code",
   "execution_count": null,
   "metadata": {},
   "outputs": [],
   "source": [
    "vif = data\n",
    "vif_data = pd.DataFrame()\n",
    "vif_data['variavel'] = vif.columns\n",
    "vif_data['VIF'] = [variance_inflation_factor(vif.values, 1) for 1 in range(len(vif.columns))]\n"
   ]
  }
 ],
 "metadata": {
  "language_info": {
   "name": "python"
  },
  "orig_nbformat": 4
 },
 "nbformat": 4,
 "nbformat_minor": 2
}
