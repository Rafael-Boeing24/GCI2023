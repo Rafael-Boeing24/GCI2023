{
 "cells": [
  {
   "cell_type": "code",
   "execution_count": null,
   "metadata": {},
   "outputs": [],
   "source": [
    "media = area['area'].mean()\n",
    "dp = area['area'].std()\n",
    "area['zscore'] = area['area'].apply(lambda x : (x - media) / dp)"
   ]
  },
  {
   "cell_type": "code",
   "execution_count": null,
   "metadata": {},
   "outputs": [],
   "source": [
    "colunas = ['area', 'populacao', 'idh']\n",
    "sel = colunas\n",
    "sel.insert(0, uf)\n",
    "estadosz = estados[sel].copy()\n",
    "listaz = []\n",
    "for coluna in colunas:\n",
    "    print(coluna)\n",
    "    media = estadosz[coluna].mean()\n",
    "    dp = estadosz[coluna].std()\n",
    "    estadosz['z_'+coluna] = estadosz[coluna].apply(lambda x : (x - media))\n",
    "estadosz"
   ]
  }
 ],
 "metadata": {
  "language_info": {
   "name": "python"
  },
  "orig_nbformat": 4
 },
 "nbformat": 4,
 "nbformat_minor": 2
}
