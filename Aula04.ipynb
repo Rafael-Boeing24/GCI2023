{
 "cells": [
  {
   "cell_type": "code",
   "execution_count": null,
   "metadata": {},
   "outputs": [],
   "source": [
    "import pandas as pd\n",
    "\n",
    "estados = pd.read_csv('brasil_estados.csv')"
   ]
  },
  {
   "cell_type": "code",
   "execution_count": null,
   "metadata": {},
   "outputs": [],
   "source": [
    "media = area['area'].mean()\n",
    "dp = area['area'].std()\n",
    "area['zscore'] = area['area'].apply(lambda x : (x - media) / dp)"
   ]
  },
  {
   "cell_type": "code",
   "execution_count": null,
   "metadata": {},
   "outputs": [],
   "source": [
    "colunas = ['area', 'populacao', 'idh']\n",
    "sel = colunas\n",
    "sel.insert(0, 'uf')\n",
    "estadosz = estados[sel].copy()\n",
    "listaz = []\n",
    "for coluna in colunas:\n",
    "    print(coluna)\n",
    "    listaz.insert(0, 'z_'+coluna)\n",
    "    media = estadosz[coluna].mean()\n",
    "    dp = estadosz[coluna].std()\n",
    "    estadosz['z_'+coluna] = estadosz[coluna].apply(lambda x : (x - media))\n",
    "estadosz"
   ]
  },
  {
   "cell_type": "code",
   "execution_count": null,
   "metadata": {},
   "outputs": [],
   "source": [
    "estadosz_lista = estadosz[listaz]\n",
    "estadosz_lista"
   ]
  }
 ],
 "metadata": {
  "kernelspec": {
   "display_name": "Python 3",
   "language": "python",
   "name": "python3"
  },
  "language_info": {
   "codemirror_mode": {
    "name": "ipython",
    "version": 3
   },
   "file_extension": ".py",
   "mimetype": "text/x-python",
   "name": "python",
   "nbconvert_exporter": "python",
   "pygments_lexer": "ipython3",
   "version": "3.8.16"
  },
  "orig_nbformat": 4
 },
 "nbformat": 4,
 "nbformat_minor": 2
}
