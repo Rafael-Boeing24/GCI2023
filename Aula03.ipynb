{
 "cells": [
  {
   "cell_type": "code",
   "execution_count": null,
   "metadata": {},
   "outputs": [],
   "source": [
    "round(estados['area'].describe(), 2);"
   ]
  },
  {
   "cell_type": "code",
   "execution_count": null,
   "metadata": {},
   "outputs": [],
   "source": [
    "for coluna in estados .columns:\n",
    "    print(coluna)\n",
    "    print(estados[coluna].describe())"
   ]
  },
  {
   "cell_type": "code",
   "execution_count": null,
   "metadata": {},
   "outputs": [],
   "source": [
    "sns.catplot(\n",
    "    data=estados,\n",
    "    x='sigla',\n",
    "    y='area',\n",
    "    kind='bar'\n",
    ")"
   ]
  },
  {
   "cell_type": "code",
   "execution_count": null,
   "metadata": {},
   "outputs": [],
   "source": [
    "sns.boxplot\n",
    "    data=estados,\n",
    "    x='regiao_nome',\n",
    "    y='area'\n",
    ")"
   ]
  },
  {
   "cell_type": "code",
   "execution_count": null,
   "metadata": {},
   "outputs": [],
   "source": [
    "out_max = estados['area'].mean() + (3 * estados['area'].std())\n",
    "print(out_max)"
   ]
  },
  {
   "cell_type": "code",
   "execution_count": null,
   "metadata": {},
   "outputs": [],
   "source": [
    "out_max_mad = etados['area'].quantile(0.75) + \\\n",
    "((etados['area'].quantile(0.75) - estados['area'].quantile(0.25)) * 1.5)\n",
    "\n",
    "print(out_max_mad)"
   ]
  },
  {
   "cell_type": "code",
   "execution_count": null,
   "metadata": {},
   "outputs": [],
   "source": [
    "limite_interior = estados['area'].mean() - (1.96 * estados['area'].std() / np.sqrt(len(estados['area'])))\n",
    "\n",
    "print(limite_interior)"
   ]
  },
  {
   "cell_type": "code",
   "execution_count": null,
   "metadata": {},
   "outputs": [],
   "source": [
    "limite_superior = estados['area'].mean() + (1.96 * estados['area'].std() / np.sqrt(len(estados['area'])))\n",
    "\n",
    "print(limite_superior)"
   ]
  }
 ],
 "metadata": {
  "kernelspec": {
   "display_name": "Python 3",
   "language": "python",
   "name": "python3"
  },
  "language_info": {
   "codemirror_mode": {
    "name": "ipython",
    "version": 3
   },
   "file_extension": ".py",
   "mimetype": "text/x-python",
   "name": "python",
   "nbconvert_exporter": "python",
   "pygments_lexer": "ipython3",
   "version": "3.8.16"
  },
  "orig_nbformat": 4
 },
 "nbformat": 4,
 "nbformat_minor": 2
}
