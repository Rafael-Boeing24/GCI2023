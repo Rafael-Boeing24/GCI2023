{
 "cells": [
  {
   "cell_type": "code",
   "execution_count": null,
   "metadata": {},
   "outputs": [],
   "source": [
    "round(estados['area'].describe(), 2);\n",
    "\n",
    "for coluna in estado .columns:\n",
    "    print(coluna)\n",
    "    print(estado[coluna].describe())"
   ]
  },
  {
   "cell_type": "code",
   "execution_count": null,
   "metadata": {},
   "outputs": [],
   "source": [
    "sns.catplot(\n",
    "    data=estados,\n",
    "    x='sigla',\n",
    "    y='area',\n",
    "    kind='bar'\n",
    ")"
   ]
  }
 ],
 "metadata": {
  "language_info": {
   "name": "python"
  },
  "orig_nbformat": 4
 },
 "nbformat": 4,
 "nbformat_minor": 2
}
